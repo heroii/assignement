{
 "cells": [
  {
   "cell_type": "code",
   "execution_count": 1,
   "id": "67fa3b00-7c0d-46f1-99b8-f82acc79de07",
   "metadata": {},
   "outputs": [],
   "source": [
    "#q1\n",
    "#exceptions are the anomalies that occur during the excuetion of program.The error are caused which is beyond the scope of program\n",
    "#syntax error , occur because of  not having  proper grammar of language.this mostly occur during intial phase of leraning a new language."
   ]
  },
  {
   "cell_type": "code",
   "execution_count": 3,
   "id": "be539477-c225-4521-b40d-458626f2c151",
   "metadata": {},
   "outputs": [
    {
     "ename": "SyntaxError",
     "evalue": "invalid syntax (850257507.py, line 2)",
     "output_type": "error",
     "traceback": [
      "\u001b[0;36m  Cell \u001b[0;32mIn[3], line 2\u001b[0;36m\u001b[0m\n\u001b[0;31m    def test\u001b[0m\n\u001b[0m            ^\u001b[0m\n\u001b[0;31mSyntaxError\u001b[0m\u001b[0;31m:\u001b[0m invalid syntax\n"
     ]
    }
   ],
   "source": [
    "#syntax error\n",
    "def test\n",
    "  pass\n",
    "#error has generated because we did put semi colon in end of function name"
   ]
  },
  {
   "cell_type": "code",
   "execution_count": 6,
   "id": "f393bf3a-1840-4a69-9694-b719c5af2d3a",
   "metadata": {},
   "outputs": [
    {
     "ename": "FileNotFoundError",
     "evalue": "[Errno 2] No such file or directory: 'test3.txt'",
     "output_type": "error",
     "traceback": [
      "\u001b[0;31m---------------------------------------------------------------------------\u001b[0m",
      "\u001b[0;31mFileNotFoundError\u001b[0m                         Traceback (most recent call last)",
      "Cell \u001b[0;32mIn[6], line 2\u001b[0m\n\u001b[1;32m      1\u001b[0m \u001b[38;5;66;03m#exception error\u001b[39;00m\n\u001b[0;32m----> 2\u001b[0m f\u001b[38;5;241m=\u001b[39m\u001b[38;5;28;43mopen\u001b[39;49m\u001b[43m(\u001b[49m\u001b[38;5;124;43m'\u001b[39;49m\u001b[38;5;124;43mtest3.txt\u001b[39;49m\u001b[38;5;124;43m'\u001b[39;49m\u001b[43m,\u001b[49m\u001b[38;5;124;43m'\u001b[39;49m\u001b[38;5;124;43mr\u001b[39;49m\u001b[38;5;124;43m'\u001b[39;49m\u001b[43m)\u001b[49m\n\u001b[1;32m      3\u001b[0m f\u001b[38;5;241m.\u001b[39mread()\n\u001b[1;32m      4\u001b[0m f\u001b[38;5;241m.\u001b[39mclose()\n",
      "File \u001b[0;32m/opt/conda/lib/python3.10/site-packages/IPython/core/interactiveshell.py:282\u001b[0m, in \u001b[0;36m_modified_open\u001b[0;34m(file, *args, **kwargs)\u001b[0m\n\u001b[1;32m    275\u001b[0m \u001b[38;5;28;01mif\u001b[39;00m file \u001b[38;5;129;01min\u001b[39;00m {\u001b[38;5;241m0\u001b[39m, \u001b[38;5;241m1\u001b[39m, \u001b[38;5;241m2\u001b[39m}:\n\u001b[1;32m    276\u001b[0m     \u001b[38;5;28;01mraise\u001b[39;00m \u001b[38;5;167;01mValueError\u001b[39;00m(\n\u001b[1;32m    277\u001b[0m         \u001b[38;5;124mf\u001b[39m\u001b[38;5;124m\"\u001b[39m\u001b[38;5;124mIPython won\u001b[39m\u001b[38;5;124m'\u001b[39m\u001b[38;5;124mt let you open fd=\u001b[39m\u001b[38;5;132;01m{\u001b[39;00mfile\u001b[38;5;132;01m}\u001b[39;00m\u001b[38;5;124m by default \u001b[39m\u001b[38;5;124m\"\u001b[39m\n\u001b[1;32m    278\u001b[0m         \u001b[38;5;124m\"\u001b[39m\u001b[38;5;124mas it is likely to crash IPython. If you know what you are doing, \u001b[39m\u001b[38;5;124m\"\u001b[39m\n\u001b[1;32m    279\u001b[0m         \u001b[38;5;124m\"\u001b[39m\u001b[38;5;124myou can use builtins\u001b[39m\u001b[38;5;124m'\u001b[39m\u001b[38;5;124m open.\u001b[39m\u001b[38;5;124m\"\u001b[39m\n\u001b[1;32m    280\u001b[0m     )\n\u001b[0;32m--> 282\u001b[0m \u001b[38;5;28;01mreturn\u001b[39;00m \u001b[43mio_open\u001b[49m\u001b[43m(\u001b[49m\u001b[43mfile\u001b[49m\u001b[43m,\u001b[49m\u001b[43m \u001b[49m\u001b[38;5;241;43m*\u001b[39;49m\u001b[43margs\u001b[49m\u001b[43m,\u001b[49m\u001b[43m \u001b[49m\u001b[38;5;241;43m*\u001b[39;49m\u001b[38;5;241;43m*\u001b[39;49m\u001b[43mkwargs\u001b[49m\u001b[43m)\u001b[49m\n",
      "\u001b[0;31mFileNotFoundError\u001b[0m: [Errno 2] No such file or directory: 'test3.txt'"
     ]
    }
   ],
   "source": [
    "#exception error\n",
    "f=open('test3.txt','r')\n",
    "f.read()\n",
    "f.close()\n",
    "#error generated because the file does not exist,there is nothing wrong with the code"
   ]
  },
  {
   "cell_type": "code",
   "execution_count": 8,
   "id": "9d0e10b2-44b8-420d-ac60-b6f05185a2a3",
   "metadata": {},
   "outputs": [],
   "source": [
    "#differences\n",
    "#exceptions are the anomalies that occur during the excuetion of program.The error are caused which is beyond the scope of program\n",
    "#syntax error , occur because of  not having  proper grammar of language.this mostly occur during intial phase of leraning a new language.\n",
    "\n",
    "\n",
    "#exceptions are handled with try and except.\n",
    "#syntax error could be corrected only by writing proper syntax of concerned language\n",
    "\n",
    "#exceptions are generated ,when error is beyond the scope of the program.\n",
    "#syntax error are generated beacuse of not writing the code in proper grammar of the language."
   ]
  },
  {
   "cell_type": "code",
   "execution_count": 9,
   "id": "60da5b1c-493e-4c9f-b833-9d9905043560",
   "metadata": {},
   "outputs": [],
   "source": [
    "#exceptions are the anomalies generated during the excuetion f program.\n",
    "#if they sre not corrected this could cause\n",
    "#a) A poor user exprience:if there is exception error generated while using app, the complex language of code error thrown could lead to the confused state of user.\n",
    "#b) security issue:since error in code is shown, a hacker code acces the code and hack the app\n"
   ]
  },
  {
   "cell_type": "code",
   "execution_count": 10,
   "id": "4c328640-7f36-413f-8bca-cb3b67d8c01b",
   "metadata": {},
   "outputs": [
    {
     "ename": "FileNotFoundError",
     "evalue": "[Errno 2] No such file or directory: 'test3.txt'",
     "output_type": "error",
     "traceback": [
      "\u001b[0;31m---------------------------------------------------------------------------\u001b[0m",
      "\u001b[0;31mFileNotFoundError\u001b[0m                         Traceback (most recent call last)",
      "Cell \u001b[0;32mIn[10], line 2\u001b[0m\n\u001b[1;32m      1\u001b[0m \u001b[38;5;66;03m#exception error\u001b[39;00m\n\u001b[0;32m----> 2\u001b[0m f\u001b[38;5;241m=\u001b[39m\u001b[38;5;28;43mopen\u001b[39;49m\u001b[43m(\u001b[49m\u001b[38;5;124;43m'\u001b[39;49m\u001b[38;5;124;43mtest3.txt\u001b[39;49m\u001b[38;5;124;43m'\u001b[39;49m\u001b[43m,\u001b[49m\u001b[38;5;124;43m'\u001b[39;49m\u001b[38;5;124;43mr\u001b[39;49m\u001b[38;5;124;43m'\u001b[39;49m\u001b[43m)\u001b[49m\n\u001b[1;32m      3\u001b[0m f\u001b[38;5;241m.\u001b[39mread()\n\u001b[1;32m      4\u001b[0m f\u001b[38;5;241m.\u001b[39mclose()\n",
      "File \u001b[0;32m/opt/conda/lib/python3.10/site-packages/IPython/core/interactiveshell.py:282\u001b[0m, in \u001b[0;36m_modified_open\u001b[0;34m(file, *args, **kwargs)\u001b[0m\n\u001b[1;32m    275\u001b[0m \u001b[38;5;28;01mif\u001b[39;00m file \u001b[38;5;129;01min\u001b[39;00m {\u001b[38;5;241m0\u001b[39m, \u001b[38;5;241m1\u001b[39m, \u001b[38;5;241m2\u001b[39m}:\n\u001b[1;32m    276\u001b[0m     \u001b[38;5;28;01mraise\u001b[39;00m \u001b[38;5;167;01mValueError\u001b[39;00m(\n\u001b[1;32m    277\u001b[0m         \u001b[38;5;124mf\u001b[39m\u001b[38;5;124m\"\u001b[39m\u001b[38;5;124mIPython won\u001b[39m\u001b[38;5;124m'\u001b[39m\u001b[38;5;124mt let you open fd=\u001b[39m\u001b[38;5;132;01m{\u001b[39;00mfile\u001b[38;5;132;01m}\u001b[39;00m\u001b[38;5;124m by default \u001b[39m\u001b[38;5;124m\"\u001b[39m\n\u001b[1;32m    278\u001b[0m         \u001b[38;5;124m\"\u001b[39m\u001b[38;5;124mas it is likely to crash IPython. If you know what you are doing, \u001b[39m\u001b[38;5;124m\"\u001b[39m\n\u001b[1;32m    279\u001b[0m         \u001b[38;5;124m\"\u001b[39m\u001b[38;5;124myou can use builtins\u001b[39m\u001b[38;5;124m'\u001b[39m\u001b[38;5;124m open.\u001b[39m\u001b[38;5;124m\"\u001b[39m\n\u001b[1;32m    280\u001b[0m     )\n\u001b[0;32m--> 282\u001b[0m \u001b[38;5;28;01mreturn\u001b[39;00m \u001b[43mio_open\u001b[49m\u001b[43m(\u001b[49m\u001b[43mfile\u001b[49m\u001b[43m,\u001b[49m\u001b[43m \u001b[49m\u001b[38;5;241;43m*\u001b[39;49m\u001b[43margs\u001b[49m\u001b[43m,\u001b[49m\u001b[43m \u001b[49m\u001b[38;5;241;43m*\u001b[39;49m\u001b[38;5;241;43m*\u001b[39;49m\u001b[43mkwargs\u001b[49m\u001b[43m)\u001b[49m\n",
      "\u001b[0;31mFileNotFoundError\u001b[0m: [Errno 2] No such file or directory: 'test3.txt'"
     ]
    }
   ],
   "source": [
    "#exception error\n",
    "f=open('test3.txt','r')\n",
    "f.read()\n",
    "f.close()\n",
    "#error generated because the file does not exist,there is nothing wrong with the code\n",
    "#code in line is also  mentioned with paticular code error ,this can cause a poor user experience since user is unware of programming\n",
    "# and a pro hacker can hack the file,since details of the error is mentioned"
   ]
  },
  {
   "cell_type": "code",
   "execution_count": 11,
   "id": "7ffd60f2-8314-435d-b7d9-2fa309b7f419",
   "metadata": {},
   "outputs": [],
   "source": [
    "#Q3\n",
    "#python statements that are used for correcting the exception,are (try,except,else,finally):\n"
   ]
  },
  {
   "cell_type": "code",
   "execution_count": 20,
   "id": "e9b92607-bdd9-4fa9-87c9-241f7edba62d",
   "metadata": {},
   "outputs": [],
   "source": [
    "#for example\n",
    "import logging\n",
    "logging.basicConfig(filename='test3.log',level=logging.INFO)\n",
    "try:\n",
    "    f=open('test3.txt','r')\n",
    "    f.read()\n",
    "    f.close()\n",
    "except Exception as e:\n",
    "    logging.error('the error generated is {}'.format(e))\n",
    "else:\n",
    "     logging.info('the try is excueted')\n",
    "finally:\n",
    "        logging.info('this will be excuted in any case')          \n",
    "                  \n",
    "                  \n",
    "                  \n",
    "    \n",
    "    \n",
    "\n"
   ]
  },
  {
   "cell_type": "code",
   "execution_count": 19,
   "id": "d5c8655c-f119-4183-a2b0-3e9f02abfe1b",
   "metadata": {},
   "outputs": [],
   "source": [
    "#Q4\n",
    "#a\n",
    "import logging\n",
    "logging.basicConfig(filename='test3.log',level=logging.INFO)\n",
    "try:\n",
    "    f=open('test3.txt','r')\n",
    "    f.read()\n",
    "    f.close()\n",
    "except Exception as e:\n",
    "    logging.error('the error generated is {}'.format(e))"
   ]
  },
  {
   "cell_type": "code",
   "execution_count": 21,
   "id": "5643ce33-8cf5-4ef0-9233-53bf325877e8",
   "metadata": {},
   "outputs": [],
   "source": [
    "#b\n",
    "import logging\n",
    "logging.basicConfig(filename='test3.log',level=logging.INFO)\n",
    "try:\n",
    "    f=open('test3.txt','r')\n",
    "    f.read()\n",
    "    f.close()\n",
    "except Exception as e:\n",
    "    logging.error('the error generated is {}'.format(e))\n",
    "else:\n",
    "     logging.info('the try is excueted')\n",
    "finally:\n",
    "        logging.info('this will be excuted in any case')          \n",
    "                  \n",
    "                  \n",
    "                  \n",
    "    \n",
    "    \n"
   ]
  },
  {
   "cell_type": "code",
   "execution_count": 41,
   "id": "41549a47-c02d-4c7c-8187-a13edb8e4bd8",
   "metadata": {},
   "outputs": [],
   "source": [
    "#q5\n",
    "import logging\n",
    "logging.basicConfig(filename='test3.log',level=logging.INFO)\n",
    "\n",
    "class Bank:\n",
    "    \n",
    "    def __init__(self,balance):\n",
    "        self,balance=balance\n",
    "        self.witdraw()\n",
    "    def withdraw():\n",
    "        try:\n",
    "            n=int(input('enter the amount'))\n",
    "            if(n<0):\n",
    "                  raise Exception(' amount can not be negative')\n",
    "            if(n>self.balance):\n",
    "                  raise Exception('itne paise nahi hai bhai')\n",
    "        except Exception as e:\n",
    "                  logging.error('the error is {}'.format(e))\n",
    "              \n",
    "              \n",
    "              \n",
    "              \n",
    "\n",
    "                  \n",
    "                  \n",
    "    \n",
    "    \n",
    "\n",
    "                                  \n",
    "              "
   ]
  },
  {
   "cell_type": "code",
   "execution_count": 42,
   "id": "afe48cc8-9afe-4db6-a008-a6e838bed11d",
   "metadata": {},
   "outputs": [
    {
     "ename": "TypeError",
     "evalue": "cannot unpack non-iterable int object",
     "output_type": "error",
     "traceback": [
      "\u001b[0;31m---------------------------------------------------------------------------\u001b[0m",
      "\u001b[0;31mTypeError\u001b[0m                                 Traceback (most recent call last)",
      "Cell \u001b[0;32mIn[42], line 1\u001b[0m\n\u001b[0;32m----> 1\u001b[0m c\u001b[38;5;241m=\u001b[39m\u001b[43mBank\u001b[49m\u001b[43m(\u001b[49m\u001b[38;5;241;43m1000\u001b[39;49m\u001b[43m)\u001b[49m\n",
      "Cell \u001b[0;32mIn[41], line 8\u001b[0m, in \u001b[0;36mBank.__init__\u001b[0;34m(self, balance)\u001b[0m\n\u001b[1;32m      7\u001b[0m \u001b[38;5;28;01mdef\u001b[39;00m \u001b[38;5;21m__init__\u001b[39m(\u001b[38;5;28mself\u001b[39m,balance):\n\u001b[0;32m----> 8\u001b[0m     \u001b[38;5;28mself\u001b[39m,balance\u001b[38;5;241m=\u001b[39mbalance\n\u001b[1;32m      9\u001b[0m     \u001b[38;5;28mself\u001b[39m\u001b[38;5;241m.\u001b[39mwitdraw()\n",
      "\u001b[0;31mTypeError\u001b[0m: cannot unpack non-iterable int object"
     ]
    }
   ],
   "source": [
    "c=Bank(1000)"
   ]
  },
  {
   "cell_type": "code",
   "execution_count": 36,
   "id": "7aea4649-3bc6-4f80-bc37-ae188822db2a",
   "metadata": {},
   "outputs": [],
   "source": [
    "#Q5\n",
    "# in customs exceptions we create new class that are derived from exception classes.\n",
    "#we do custom handling to add a additional feature in our application as per the demand.\n"
   ]
  },
  {
   "cell_type": "code",
   "execution_count": 45,
   "id": "a0f8f44b-39d8-487f-84de-0ca99522acbb",
   "metadata": {},
   "outputs": [],
   "source": [
    "class securityerror(Exception):\n",
    "    def __init__(self,mess):\n",
    "        print(mess)\n",
    "        \n",
    "    def logout(self):\n",
    "        print('succesful logout')\n",
    "\n",
    "\n",
    "class bank:\n",
    "    def __init__(self,balance,pin,device):\n",
    "        self.balance=balance\n",
    "        self.pin=pin\n",
    "        self.device=device\n",
    "    def login(self,device):\n",
    "        if device!=self.device:\n",
    "            raise securityerror('bhai there is a problem')\n",
    "        else:\n",
    "            print('the balance is {}'.format(self.balance))\n",
    "            \n",
    "            "
   ]
  },
  {
   "cell_type": "code",
   "execution_count": 46,
   "id": "c078e25d-ea66-4c10-913a-ba1d5f2a9db4",
   "metadata": {},
   "outputs": [],
   "source": [
    "c=bank(22000,234,'iphone')"
   ]
  },
  {
   "cell_type": "code",
   "execution_count": 47,
   "id": "3fb9efd6-2a29-4518-bae3-6deda9e8852e",
   "metadata": {},
   "outputs": [
    {
     "name": "stdout",
     "output_type": "stream",
     "text": [
      "the balance is 22000\n",
      "succesful\n",
      "database closed\n"
     ]
    }
   ],
   "source": [
    "try:\n",
    "    c.login('iphone')\n",
    "except securityerror as e:\n",
    "    e.logout()\n",
    "else:\n",
    "    print('succesful')\n",
    "finally:\n",
    "    print('database closed')\n",
    "    \n",
    "    \n",
    "    \n",
    "  "
   ]
  },
  {
   "cell_type": "code",
   "execution_count": 54,
   "id": "8c783898-d367-4850-ad55-cd80a6e264c5",
   "metadata": {},
   "outputs": [],
   "source": [
    "#q6\n",
    "class securityerror(Exception):\n",
    "    def __init__(self,mess):\n",
    "        print(mess)\n",
    "        \n",
    "    def logout(self):\n",
    "        print('succesful logout')\n",
    "\n",
    "\n",
    "class bank:\n",
    "    def __init__(self,balance,pin):\n",
    "        self.balance=balance\n",
    "        self.pin=pin\n",
    "        \n",
    "    def login(self,pin):\n",
    "        if (pin)!=self.pin:\n",
    "            raise securityerror('bhai there is a problem')\n",
    "        else:\n",
    "            print('the balance is {}'.format(self.balance))\n",
    "            \n",
    "            \n"
   ]
  },
  {
   "cell_type": "code",
   "execution_count": 55,
   "id": "51ec528c-da49-4d0f-9442-69df2e4049af",
   "metadata": {},
   "outputs": [],
   "source": [
    "c=bank(22000,234)"
   ]
  },
  {
   "cell_type": "code",
   "execution_count": 56,
   "id": "12813931-4d93-4df4-a299-5a7bc6b27519",
   "metadata": {},
   "outputs": [
    {
     "name": "stdout",
     "output_type": "stream",
     "text": [
      "bhai there is a problem\n",
      "succesful logout\n",
      "database closed\n"
     ]
    }
   ],
   "source": [
    "try:\n",
    "    c.login(-2123)\n",
    "except securityerror as e:\n",
    "    e.logout()\n",
    "else:\n",
    "    print('succesful')\n",
    "finally:\n",
    "    print('database closed')"
   ]
  },
  {
   "cell_type": "code",
   "execution_count": null,
   "id": "37bbb4a2-73e7-4878-a80b-26a539d64ee5",
   "metadata": {},
   "outputs": [],
   "source": []
  },
  {
   "cell_type": "code",
   "execution_count": null,
   "id": "4573d833-7247-4adf-8969-9f9ffecfd25f",
   "metadata": {},
   "outputs": [],
   "source": []
  },
  {
   "cell_type": "code",
   "execution_count": null,
   "id": "ab5769a3-3b11-432e-abcb-a3493523654b",
   "metadata": {},
   "outputs": [],
   "source": []
  },
  {
   "cell_type": "code",
   "execution_count": null,
   "id": "8baad2fe-0405-47af-bdb1-65a2fefe0e07",
   "metadata": {},
   "outputs": [],
   "source": []
  },
  {
   "cell_type": "code",
   "execution_count": null,
   "id": "8d37a642-de70-47f6-8fa3-e17fafe8b503",
   "metadata": {},
   "outputs": [],
   "source": []
  },
  {
   "cell_type": "code",
   "execution_count": null,
   "id": "d4b9c360-ee73-4ca9-920a-7bf2e5cc5b53",
   "metadata": {},
   "outputs": [],
   "source": []
  }
 ],
 "metadata": {
  "kernelspec": {
   "display_name": "Python 3 (ipykernel)",
   "language": "python",
   "name": "python3"
  },
  "language_info": {
   "codemirror_mode": {
    "name": "ipython",
    "version": 3
   },
   "file_extension": ".py",
   "mimetype": "text/x-python",
   "name": "python",
   "nbconvert_exporter": "python",
   "pygments_lexer": "ipython3",
   "version": "3.10.8"
  }
 },
 "nbformat": 4,
 "nbformat_minor": 5
}
